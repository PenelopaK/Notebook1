{
 "cells": [
  {
   "cell_type": "markdown",
   "metadata": {},
   "source": [
    "# Is creativity without intelligence possible? A Necessary Condition Analysis\n",
    "\n",
    "This article extends the previous studies on the relationship between intelligence and creativity by providing a new methodology and an empirical test of the hypothesis that intelligence is a necessary condition for creativity. Unlike the classic threshold hypothesis, which assumes the existence of a curvilinear relationship between intelligence and creativity, the Necessary Condition Analysis (Dul, 2016) focuses on and quantifies the overall shape of the relationship between intelligence and creativity. In eight studies (total N = 12,255), using different measures of intelligence and creativity,  observed are a consistent pattern that supports the necessary-but-not-sufficient relationship between these two constructs. It is concluded that although evidence concerning the threshold hypothesis on the creativity–intelligence relationship is mixed, the “necessary condition hypothesis” is clearly corroborated by the results of appropriate tests.\n"
   ]
  },
  {
   "cell_type": "code",
   "execution_count": null,
   "metadata": {},
   "outputs": [],
   "source": [
    "from IPython.display import Image\n",
    "Image (filename=\"logo1.png\", width=200, height=600)"
   ]
  },
  {
   "cell_type": "markdown",
   "metadata": {},
   "source": [
    "Creativity scholars usually agree in defining creativity as a human\n",
    "capacity to produce ideas and products that are both novel and useful\n",
    "or appropriate (Amabile, 1996; Sternberg & Lubart, 1999). Even if sometimes other creativity criteria are added, including the expectation that\n",
    "a creative product will be surprising (Simonton, 2012) or characterized\n",
    "by an esthetic value and authenticity (Kharkhurin, 2014), the combination of originality and value/usefulness is most often seen as essential\n",
    "criteria for a product to be considered creative (Runco & Jaeger, 2012)"
   ]
  },
  {
   "cell_type": "code",
   "execution_count": null,
   "metadata": {},
   "outputs": [],
   "source": []
  },
  {
   "cell_type": "code",
   "execution_count": null,
   "metadata": {},
   "outputs": [],
   "source": [
    "%%HTML\n",
    "<iframe width=\"560\" height=\"315\" src=\"https://www.youtube.com/embed/syFTN2OOA38\" frameborder=\"0\" allow=\"accelerometer; autoplay; clipboard-write; encrypted-media; gyroscope; picture-in-picture\" allowfullscreen></iframe>"
   ]
  },
  {
   "cell_type": "markdown",
   "metadata": {},
   "source": [
    "Several studies provide arguments to believe that the curvilinear relationship between intelligence and creative ability indeed exists (Cho,\n",
    "Nijenhuis, van Vianen, Kim, & Lee, 2010; Fuchs-Beauchamp, Karnes, &\n",
    "Johnson, 1993; Gralewski, Weremczuk, & Karwowski, 2012; Jauk et al.,\n",
    "2013; Karwowski & Gralewski, 2013), while other investigations\n",
    "found linear relationships (Preckel et al., 2006; Sligh, Conners, &\n",
    "Roskos-Ewoldsen, 2005). A meta-analysis of the link between intelligence and creative ability (Kim, 2005) estimated the overall link\n",
    "between these two constructs at r = .17, but, importantly, the correlation between intelligence and creative ability obtained among individuals with an IQ below 120 was almost exactly the same as that\n",
    "obtained among individuals above this point (r = .24 and .20, respectively). However, even meta-analytical findings should be read with\n",
    "caution, because 65 correlation coefficients above and only 14 coefficients below IQ = 120 were meta-analyzed, which means publication\n",
    "bias may have distorted the estimated pattern."
   ]
  },
  {
   "cell_type": "code",
   "execution_count": null,
   "metadata": {},
   "outputs": [],
   "source": [
    "%matplotlib inline"
   ]
  },
  {
   "cell_type": "code",
   "execution_count": null,
   "metadata": {},
   "outputs": [],
   "source": [
    "import matplotlib\n",
    "import matplotlib.pyplot as plt\n",
    "import numpy as np\n",
    "\n",
    "\n",
    "labels = ['Fluency', 'Originality', 'TCT-DP', 'Cr-Imag', 'Cr-Act']\n",
    "study_groups1 = [20, 34, 30, 35, 27]\n",
    "study_groups5 = [25, 32, 34, 20, 25]\n",
    "\n",
    "x = np.arange(len(labels))  # the label locations\n",
    "width = 0.35  # the width of the bars\n",
    "\n",
    "fig, ax = plt.subplots()\n",
    "rects1 = ax.bar(x - width/2, study_groups1, width, label='S1-4')\n",
    "rects2 = ax.bar(x + width/2, study_groups5, width, label='S5-8')\n",
    "\n",
    "# Add some text for labels, title and custom x-axis tick labels, etc.\n",
    "ax.set_ylabel('NCA Effect Size')\n",
    "ax.set_title('Effect sizes of the NCA analyses across studies and different aspects of creativity.')\n",
    "ax.set_xticks(x)\n",
    "ax.set_xticklabels(labels)\n",
    "ax.legend()\n",
    "\n",
    "\n",
    "def autolabel(rects):\n",
    "    \"\"\"Attach a text label above each bar in *rects*, displaying its height.\"\"\"\n",
    "    for rect in rects:\n",
    "        height = rect.get_height()\n",
    "        ax.annotate('{}'.format(height),\n",
    "                    xy=(rect.get_x() + rect.get_width() / 2, height),\n",
    "                    xytext=(0, 3),  # 3 points vertical offset\n",
    "                    textcoords=\"offset points\",\n",
    "                    ha='center', va='bottom')\n",
    "\n",
    "\n",
    "autolabel(rects1)\n",
    "autolabel(rects2)\n",
    "\n",
    "fig.tight_layout()\n",
    "\n",
    "plt.show()"
   ]
  },
  {
   "cell_type": "markdown",
   "metadata": {},
   "source": [
    "As this figure demonstrates, thevariability of the NCA effects sizes we have obtained was located across the different aspects of creativity rather than across the studies. More specifically, similar relationships, and close to the boundary of strong effects (Dul, 2016), were observed in the case of fluency (sample-weighted average d = .265) and creative activity or achievement (similar effect size, sample-weighted average d = .226). Similar effects were found when creativity was measured in a complex way using the TCTDP test (d = .24 and d = .20) and the creative imagination test (d = .22). Consequently, the weakest NCA effects sizes were observed in the case of originality (ds between .13 and .17)."
   ]
  }
 ],
 "metadata": {
  "kernelspec": {
   "display_name": "Python 3",
   "language": "python",
   "name": "python3"
  },
  "language_info": {
   "codemirror_mode": {
    "name": "ipython",
    "version": 3
   },
   "file_extension": ".py",
   "mimetype": "text/x-python",
   "name": "python",
   "nbconvert_exporter": "python",
   "pygments_lexer": "ipython3",
   "version": "3.8.5"
  }
 },
 "nbformat": 4,
 "nbformat_minor": 4
}
